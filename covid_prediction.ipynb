{
 "metadata": {
  "language_info": {
   "codemirror_mode": {
    "name": "ipython",
    "version": 3
   },
   "file_extension": ".py",
   "mimetype": "text/x-python",
   "name": "python",
   "nbconvert_exporter": "python",
   "pygments_lexer": "ipython3",
   "version": "3.8.1-final"
  },
  "orig_nbformat": 2,
  "kernelspec": {
   "name": "python3",
   "display_name": "Python 3"
  }
 },
 "nbformat": 4,
 "nbformat_minor": 2,
 "cells": [
  {
   "cell_type": "code",
   "execution_count": 1,
   "metadata": {},
   "outputs": [],
   "source": [
    "# Covid-19 Cases Prediction"
   ]
  },
  {
   "cell_type": "code",
   "execution_count": 2,
   "metadata": {},
   "outputs": [],
   "source": [
    "# Imports\n",
    "import requests\n",
    "import pandas as pd\n",
    "import numpy as np\n",
    "import csv\n",
    "import matplotlib.pyplot as plt\n",
    "%matplotlib inline\n",
    "\n",
    "from matplotlib.pylab import rcParams\n",
    "rcParams['figure.figsize'] = 12, 6\n",
    "\n",
    "from sklearn.preprocessing import MinMaxScaler\n",
    "\n",
    "# Global settings\n",
    "### change this to either 'cases' or 'deaths' to predict that data\n",
    "predict_class = \"deaths\"\n",
    "### change this to whatever state you want, make sure to capitalize first letter\n",
    "predict_state = \"Hawaii\""
   ]
  },
  {
   "cell_type": "code",
   "execution_count": 3,
   "metadata": {},
   "outputs": [
    {
     "output_type": "execute_result",
     "data": {
      "text/plain": [
       "508623"
      ]
     },
     "metadata": {},
     "execution_count": 3
    }
   ],
   "source": [
    "# Get the data\n",
    "# rawdata_filepath = \"./data/raw-us-states.csv\"\n",
    "# data_URL = \"https://raw.githubusercontent.com/nytimes/covid-19-data/master/us-states.csv\"\n",
    "# r = requests.get(data_URL)\n",
    "\n",
    "# f = open(rawdata_filepath, 'w')\n",
    "# f.write(str(r.content, 'utf-8'))"
   ]
  },
  {
   "cell_type": "code",
   "execution_count": 4,
   "metadata": {},
   "outputs": [],
   "source": [
    "# Split raw data by state\n",
    "# with open(rawdata_filepath, 'r') as csv_file:\n",
    "#     csv_reader = csv.reader(csv_file)\n",
    "#     first_line = next(csv_reader)\n",
    "#     state_filepaths = []\n",
    "\n",
    "#     for line in csv_reader:\n",
    "#         state_filepath = \"./data/\" + line[1] + \".csv\"\n",
    "\n",
    "#         if state_filepath in state_filepaths:\n",
    "#             with open(state_filepath, 'a+', newline='') as append_file:\n",
    "#                 # Open file in append mode to add following lines to file\n",
    "#                 csv_writer = csv.writer(append_file)\n",
    "#                 csv_writer.writerow(line)\n",
    "#         else:\n",
    "#             state_filepaths.append(state_filepath)\n",
    "#             with open(state_filepath, 'w') as write_file:\n",
    "#                 # Open file write mode and add column names to file\n",
    "#                 csv_writer = csv.writer(write_file)\n",
    "#                 csv_writer.writerow(first_line)"
   ]
  },
  {
   "cell_type": "code",
   "execution_count": 5,
   "metadata": {},
   "outputs": [],
   "source": [
    "# Read the dataset\n",
    "df = pd.read_csv(f\"./data/{predict_state}.csv\")\n",
    "# print(df.shape)\n",
    "# df.head()"
   ]
  },
  {
   "cell_type": "code",
   "execution_count": 6,
   "metadata": {},
   "outputs": [],
   "source": [
    "# Display Covid-19 cases to date\n",
    "df['date'] = pd.to_datetime(df.date, format=\"%Y-%m-%d\")\n",
    "df.index = df['date']\n",
    "\n",
    "# plt.plot(df[predict_class], label=f\"raw data ({predict_class})\")\n",
    "# plt.legend()"
   ]
  },
  {
   "cell_type": "code",
   "execution_count": 7,
   "metadata": {},
   "outputs": [],
   "source": [
    "# Separate dataset by class\n",
    "cases_dataset = np.array([df['cases'][i] for i in np.arange(len(df))])\n",
    "deaths_dataset = np.array([df['deaths'][i] for i in np.arange(len(df))])\n",
    "\n",
    "# Choose which data set to predict on\n",
    "if predict_class is \"cases\":\n",
    "    dataset = cases_dataset.reshape(-1, 1)\n",
    "else:\n",
    "    dataset = deaths_dataset.reshape(-1, 1)\n",
    "\n",
    "# dataset.shape"
   ]
  },
  {
   "cell_type": "code",
   "execution_count": 8,
   "metadata": {},
   "outputs": [],
   "source": [
    "# Normalize: Need to scale data down to train model properly\n",
    "scaler = MinMaxScaler(feature_range=(0,1))\n",
    "scaled_data = scaler.fit_transform(dataset)\n",
    "\n",
    "# Plot scaled dataset to verify its still correct\n",
    "# plt.plot(scaled_data[:len(scaled_data)], label=f\"scaled data ({predict_class})\")\n",
    "# plt.legend()\n",
    "# scaled_data.shape"
   ]
  },
  {
   "cell_type": "code",
   "execution_count": 9,
   "metadata": {},
   "outputs": [],
   "source": [
    "# Training to Validation Variables\n",
    "input_seq = 50     # input days to predict\n",
    "total_train_len = len(scaled_data) - input_seq\n",
    "train_len = total_train_len - input_seq\n",
    "valid_len = total_train_len - train_len\n",
    "# print(f\"Total data: {len(scaled_data)}, Total train: {total_train_len}, Train: {train_len}, Valid: {valid_len}\")"
   ]
  },
  {
   "cell_type": "code",
   "execution_count": 10,
   "metadata": {},
   "outputs": [],
   "source": [
    "# Create training data\n",
    "x_train = []\n",
    "y_train = []\n",
    "\n",
    "for i in range(train_len):\n",
    "    x_train.append(scaled_data[i:(i + input_seq)])\n",
    "    y_train.append(scaled_data[i + input_seq])\n",
    "    \n",
    "x_train = np.array(x_train)\n",
    "y_train = np.array(y_train)\n",
    "\n",
    "# x_train.shape, y_train.shape"
   ]
  },
  {
   "cell_type": "code",
   "execution_count": 11,
   "metadata": {},
   "outputs": [],
   "source": [
    "# plt.plot(x_train[:, 0], 'g', label=f\"training x: first {train_len} days\")\n",
    "# plt.plot(y_train[:, 0], 'b', label=f\"training y: shifted left by {input_seq} days\")\n",
    "# plt.legend()"
   ]
  },
  {
   "cell_type": "code",
   "execution_count": 12,
   "metadata": {},
   "outputs": [],
   "source": [
    "# Create validation data\n",
    "x_valid = []\n",
    "y_valid = []\n",
    "\n",
    "for i in range(train_len, total_train_len):\n",
    "    x_valid.append(scaled_data[i:(i + input_seq)])\n",
    "    y_valid.append(scaled_data[i + input_seq])\n",
    "    \n",
    "x_valid = np.array(x_valid)\n",
    "y_valid = np.array(y_valid)\n",
    "\n",
    "# x_valid.shape, y_valid.shape"
   ]
  },
  {
   "cell_type": "code",
   "execution_count": 13,
   "metadata": {},
   "outputs": [],
   "source": [
    "# plt.plot(x_valid[:, 0], 'g', label=f\"validation x: starts at day {train_len}\")\n",
    "# plt.plot(y_valid[:, 0], 'b', label=f\"validation y: starts at day {total_train_len}\")\n",
    "# plt.legend()"
   ]
  },
  {
   "cell_type": "code",
   "execution_count": 14,
   "metadata": {},
   "outputs": [],
   "source": [
    "# Recurrent Neural Network Variables\n",
    "if predict_class is \"cases\":\n",
    "    nepoch = 16                  # Choose number of epoch for cases data \n",
    "else:\n",
    "    nepoch = 24                  # Choose number of epoch for deaths data \n",
    "\n",
    "learning_rate = 0.0001\n",
    "\n",
    "input_neurons = input_seq\n",
    "hidden_neurons = 100\n",
    "output_neuron = 1\n",
    "\n",
    "# Backpropagation through time\n",
    "bptt = 5\n",
    "\n",
    "# Gradient clipping\n",
    "min_gradient = -10\n",
    "max_gradient = 10"
   ]
  },
  {
   "cell_type": "code",
   "execution_count": 15,
   "metadata": {},
   "outputs": [],
   "source": [
    "# Recurrent Neural Network Weights\n",
    "ih_weight = np.random.uniform(0, 1, (hidden_neurons, input_neurons))\n",
    "hh_weight = np.random.uniform(0, 1, (hidden_neurons, hidden_neurons))\n",
    "ho_weight = np.random.uniform(0, 1, (output_neuron, hidden_neurons))\n"
   ]
  },
  {
   "cell_type": "code",
   "execution_count": 16,
   "metadata": {},
   "outputs": [],
   "source": [
    "# Activation function\n",
    "def sigmoid(x):\n",
    "    return 1 / (1 + np.exp(-x))"
   ]
  },
  {
   "cell_type": "code",
   "execution_count": 17,
   "metadata": {
    "tags": []
   },
   "outputs": [
    {
     "output_type": "stream",
     "name": "stdout",
     "text": [
      "Epoch: 0; Train Loss: [[234081.57462966]]; Valid Loss: [[66632.4844125]]\n",
      "Epoch: 1; Train Loss: [[106083.16188165]]; Valid Loss: [[29802.08099433]]\n",
      "Epoch: 2; Train Loss: [[28086.44018112]]; Valid Loss: [[7592.08742278]]\n",
      "Epoch: 3; Train Loss: [[47.04897028]]; Valid Loss: [[1.39245008]]\n",
      "Epoch: 4; Train Loss: [[6.01215806]]; Valid Loss: [[1.64412581]]\n",
      "Epoch: 5; Train Loss: [[15.3164218]]; Valid Loss: [[0.3400994]]\n",
      "Epoch: 6; Train Loss: [[6.44164143]]; Valid Loss: [[1.57977774]]\n",
      "Epoch: 7; Train Loss: [[15.0255419]]; Valid Loss: [[0.38353038]]\n",
      "Epoch: 8; Train Loss: [[6.8483921]]; Valid Loss: [[1.52501165]]\n",
      "Epoch: 9; Train Loss: [[14.7627083]]; Valid Loss: [[0.42576716]]\n",
      "Epoch: 10; Train Loss: [[7.23187106]]; Valid Loss: [[1.47585604]]\n",
      "Epoch: 11; Train Loss: [[14.52467318]]; Valid Loss: [[0.46648958]]\n",
      "Epoch: 12; Train Loss: [[7.59200987]]; Valid Loss: [[1.43166414]]\n",
      "Epoch: 13; Train Loss: [[14.30889766]]; Valid Loss: [[0.50546395]]\n",
      "Epoch: 14; Train Loss: [[7.92898627]]; Valid Loss: [[1.39188137]]\n",
      "Epoch: 15; Train Loss: [[14.11305803]]; Valid Loss: [[0.54254694]]\n",
      "Epoch: 16; Train Loss: [[8.24352132]]; Valid Loss: [[1.35603348]]\n",
      "Epoch: 17; Train Loss: [[13.93479282]]; Valid Loss: [[0.57766134]]\n",
      "Epoch: 18; Train Loss: [[8.53629708]]; Valid Loss: [[1.32364691]]\n",
      "Epoch: 19; Train Loss: [[13.77218617]]; Valid Loss: [[0.61080201]]\n",
      "Epoch: 20; Train Loss: [[8.80847807]]; Valid Loss: [[1.29431877]]\n",
      "Epoch: 21; Train Loss: [[13.62371166]]; Valid Loss: [[0.64198828]]\n",
      "Epoch: 22; Train Loss: [[9.06125838]]; Valid Loss: [[1.26772833]]\n",
      "Epoch: 23; Train Loss: [[13.48796146]]; Valid Loss: [[0.67125344]]\n"
     ]
    }
   ],
   "source": [
    "# Training the model\n",
    "for epoch in range(nepoch):\n",
    "    \"\"\" Compute training loss \"\"\"\n",
    "    train_loss = 0.0\n",
    "\n",
    "    # Forward propagation\n",
    "    for i in range(y_train.shape[0]):\n",
    "        x_out = x_train[i]\n",
    "        y_out = y_train[i]\n",
    "\n",
    "        prev_activation = np.zeros((hidden_neurons, 1))\n",
    "\n",
    "        for neuron in range(input_neurons):\n",
    "            new_input = np.zeros(x_out.shape)\n",
    "            new_input[neuron] = x_out[neuron]\n",
    "            ih_dot = np.dot(ih_weight, new_input)\n",
    "            hh_dot = np.dot(hh_weight, prev_activation)\n",
    "            add = ih_dot + hh_dot\n",
    "            curr_activation = sigmoid(add)\n",
    "            ho_dot = np.dot(ho_weight, curr_activation)\n",
    "            prev_activation = curr_activation\n",
    "\n",
    "        # Calculate loss\n",
    "        loss = (y_out - ho_dot)**2 / 2\n",
    "        train_loss += loss\n",
    "\n",
    "    train_loss = train_loss / float(y_out.shape[0])\n",
    "\n",
    "    \"\"\" Compute validation loss \"\"\"\n",
    "    valid_loss = 0.0\n",
    "\n",
    "    # Forward propagation\n",
    "    for i in range(y_valid.shape[0]):\n",
    "        x_out = x_valid[i]\n",
    "        y_out = y_valid[i]\n",
    "\n",
    "        prev_activation = np.zeros((hidden_neurons, 1))\n",
    "\n",
    "        for neuron in range(input_neurons):\n",
    "            new_input = np.zeros(x_out.shape)\n",
    "            new_input[neuron] = x_out[neuron]\n",
    "            ih_dot = np.dot(ih_weight, new_input)\n",
    "            hh_dot = np.dot(hh_weight, prev_activation)\n",
    "            add = ih_dot + hh_dot\n",
    "            curr_activation = sigmoid(add)\n",
    "            ho_dot = np.dot(ho_weight, curr_activation)\n",
    "            prev_activation = curr_activation\n",
    "\n",
    "        # Calculate loss\n",
    "        loss = (y_out - ho_dot)**2 / 2\n",
    "        valid_loss += loss\n",
    "\n",
    "    valid_loss = valid_loss / float(y_out.shape[0])\n",
    "    \n",
    "    print(f\"Epoch: {epoch}; Train Loss: {train_loss}; Valid Loss: {valid_loss}\")\n",
    "\n",
    "    \"\"\" Train the model \"\"\"\n",
    "    for i in range(y_train.shape[0]):\n",
    "        x_out = x_train[i]\n",
    "        y_out = y_train[i]\n",
    "    \n",
    "        layers = []\n",
    "        prev_activation = np.zeros((hidden_neurons, 1))\n",
    "        \n",
    "        d_ih = np.zeros(ih_weight.shape)\n",
    "        d_ho = np.zeros(ho_weight.shape)\n",
    "        d_hh = np.zeros(hh_weight.shape)\n",
    "        \n",
    "        dt_ih = np.zeros(ih_weight.shape)\n",
    "        dt_ho = np.zeros(ho_weight.shape)\n",
    "        dt_hh = np.zeros(hh_weight.shape)\n",
    "        \n",
    "        di_ih = np.zeros(ih_weight.shape)\n",
    "        di_hh = np.zeros(hh_weight.shape)\n",
    "\n",
    "        # Forward propagation\n",
    "        for neuron in range(input_neurons):\n",
    "            new_input = np.zeros(x_out.shape)\n",
    "            new_input[neuron] = x_out[neuron]\n",
    "            ih_dot = np.dot(ih_weight, new_input)\n",
    "            hh_dot = np.dot(hh_weight, prev_activation)\n",
    "            add = ih_dot + hh_dot\n",
    "            curr_activation = sigmoid(add)\n",
    "            ho_dot = np.dot(ho_weight, curr_activation)\n",
    "            layers.append({'curr_activation':curr_activation, 'prev_activation':prev_activation})\n",
    "            prev_activation = curr_activation\n",
    "        \n",
    "        # Derivative of prediction\n",
    "        d_ho_dot = (ho_dot - y_out)\n",
    "\n",
    "        # Backward propagation\n",
    "        for neuron in range(input_neurons):\n",
    "            dt_ho = np.dot(d_ho_dot, np.transpose(layers[neuron]['curr_activation']))\n",
    "            ds_ho = np.dot(np.transpose(ho_weight), d_ho_dot)\n",
    "            ds = ds_ho\n",
    "            dadd = add * (1 - add) * ds\n",
    "            d_hh_dot = dadd * np.ones_like(hh_dot)\n",
    "\n",
    "            dprev_activation = np.dot(np.transpose(hh_weight), d_hh_dot)\n",
    "\n",
    "            for i in range((neuron - 1), max(-1, (neuron - bptt - 1)), -1):\n",
    "                ds = ds_ho + dprev_activation\n",
    "                dadd = add * (1 - add) * ds\n",
    "                d_hh_dot = dadd * np.ones_like(hh_dot)\n",
    "                d_ih_dot = dadd * np.ones_like(ih_dot)\n",
    "                di_hh = np.dot(hh_weight, layers[neuron]['prev_activation'])\n",
    "                dprev_activation = np.dot(np.transpose(hh_weight), d_hh_dot)\n",
    "                new_input = np.zeros(x_out.shape)\n",
    "                new_input[neuron] = x_out[neuron]\n",
    "                di_ih = np.dot(ih_weight, new_input)\n",
    "                dx = np.dot(np.transpose(ih_weight), d_ih_dot)\n",
    "\n",
    "                dt_ih += di_ih\n",
    "                dt_hh += di_hh\n",
    "\n",
    "            d_ho += dt_ho\n",
    "            d_ih += dt_ih\n",
    "            d_hh += dt_hh\n",
    "            \n",
    "            if d_ih.max() > max_gradient:\n",
    "                d_ih[d_ih > max_gradient] = max_gradient\n",
    "            if d_ho.max() > max_gradient:\n",
    "                d_ho[d_ho > max_gradient] = max_gradient\n",
    "            if d_hh.max() > max_gradient:\n",
    "                d_hh[d_hh > max_gradient] = max_gradient\n",
    "                \n",
    "            if d_ih.min() < min_gradient:\n",
    "                d_ih[d_ih < min_gradient] = min_gradient\n",
    "            if d_ho.min() < min_gradient:\n",
    "                d_ho[d_ho < min_gradient] = min_gradient\n",
    "            if d_hh.min() < min_gradient:\n",
    "                d_hh[d_hh < min_gradient] = min_gradient\n",
    "        \n",
    "        # Update weights\n",
    "        ih_weight -= learning_rate * d_ih\n",
    "        ho_weight -= learning_rate * d_ho\n",
    "        hh_weight -= learning_rate * d_hh\n"
   ]
  },
  {
   "cell_type": "code",
   "execution_count": 18,
   "metadata": {},
   "outputs": [],
   "source": [
    "# Prediction on training data\n",
    "train_preds = []\n",
    "\n",
    "for i in range(y_train.shape[0]):\n",
    "    x_out = x_train[i]\n",
    "    y_out = y_train[i]\n",
    "    \n",
    "    prev_activation = np.zeros((hidden_neurons, 1))\n",
    "\n",
    "    # Forward propagation\n",
    "    for neuron in range(input_neurons):\n",
    "        ih_dot = np.dot(ih_weight, x_out)\n",
    "        hh_dot = np.dot(hh_weight, prev_activation)\n",
    "        add = ih_dot + hh_dot\n",
    "        curr_activation = sigmoid(add)\n",
    "        ho_dot = np.dot(ho_weight, curr_activation)\n",
    "        prev_activation = curr_activation\n",
    "\n",
    "    train_preds.append(ho_dot)\n",
    "    \n",
    "train_preds = np.array(train_preds)\n",
    "\n",
    "# plt.plot(train_preds[:, 0, 0], 'r', label=\"prediction on training y data\")\n",
    "# plt.plot(x_train[:, 0], 'g', label=\"training x\")\n",
    "# plt.plot(y_train[:, 0], 'b', label=\"training y\")\n",
    "# plt.legend()"
   ]
  },
  {
   "cell_type": "code",
   "execution_count": 19,
   "metadata": {},
   "outputs": [],
   "source": [
    "# Prediction on validation data\n",
    "valid_preds = []\n",
    "\n",
    "for i in range(y_valid.shape[0]):\n",
    "    x_out = x_valid[i]\n",
    "    y_out = y_valid[i]\n",
    "\n",
    "    prev_activation = np.zeros((hidden_neurons, 1))\n",
    "\n",
    "    # Forward Propagation\n",
    "    for neuron in range(input_neurons):\n",
    "        ih_dot = np.dot(ih_weight, x_out)\n",
    "        hh_dot = np.dot(hh_weight, prev_activation)\n",
    "        add = ih_dot + hh_dot\n",
    "        curr_activation = sigmoid(add)\n",
    "        ho_dot = np.dot(ho_weight, curr_activation)\n",
    "        prev_activation = curr_activation\n",
    "\n",
    "    valid_preds.append(ho_dot)\n",
    "valid_preds = np.array(valid_preds)\n",
    "\n",
    "# plt.plot(valid_preds[:, 0, 0], 'r', label=\"prediction on validation y data\")\n",
    "# plt.plot(x_valid[:, 0], 'g', label=\"validation x\")\n",
    "# plt.plot(y_valid[:, 0], 'b', label=\"validation y\")\n",
    "# plt.legend()"
   ]
  },
  {
   "cell_type": "code",
   "execution_count": 20,
   "metadata": {},
   "outputs": [],
   "source": [
    "# All plots combined\n",
    "x_data = np.concatenate((x_train, x_valid), axis=0)\n",
    "y_data = np.concatenate((y_train, y_valid), axis=0)\n",
    "# plt.plot(x_data[:, 0], 'g', label=\"x data - first 80% of scaled data\")\n",
    "# plt.plot(y_data[:, 0], 'b', label=\"y data - last 80% of scaled data\")\n",
    "\n",
    "init_section = scaled_data[:(len(scaled_data) - valid_len),:, None]\n",
    "predict = np.concatenate((init_section, valid_preds), axis=0)\n",
    "\n",
    "plt.plot(predict[:, 0, 0], label=f\"predicting last {input_seq} days\")\n",
    "plt.plot(scaled_data[:len(scaled_data)], label=f\"scaled data ({predict_class})\")\n",
    "plt.legend()"
   ]
  },
  {
   "cell_type": "code",
   "execution_count": 21,
   "metadata": {},
   "outputs": [],
   "source": [
    "# Format prediction result and as csv file\n",
    "prediction_filepath = f\"./predictions/{predict_state}_{predict_class}.csv\"\n",
    "\n",
    "predict_df = pd.DataFrame(index=range(0, len(df)), columns=['date', 'state', f'{predict_class}'])\n",
    "\n",
    "predict = predict.transpose(2,0,1).reshape(predict.shape[0], -1)\n",
    "predict = scaler.inverse_transform(predict)\n",
    "\n",
    "for i in range(0, len(df)):\n",
    "    predict_df['date'][i] = df['date'][i]\n",
    "    predict_df['state'][i] = df['state'][i]\n",
    "    predict_df[f'{predict_class}'][i] = predict[i][0]\n",
    "\n",
    "predict_df['date'] = pd.to_datetime(predict_df.date, format=\"%Y-%m-%d\")\n",
    "predict_df.to_csv(prediction_filepath, index=False)\n",
    "# predict_df.tail()"
   ]
  },
  {
   "cell_type": "code",
   "execution_count": 22,
   "metadata": {},
   "outputs": [
    {
     "output_type": "execute_result",
     "data": {
      "text/plain": [
       "<matplotlib.legend.Legend at 0x12d3ebb50>"
      ]
     },
     "metadata": {},
     "execution_count": 22
    },
    {
     "output_type": "display_data",
     "data": {
      "text/plain": "<Figure size 864x432 with 1 Axes>",
      "image/svg+xml": "<?xml version=\"1.0\" encoding=\"utf-8\" standalone=\"no\"?>\n<!DOCTYPE svg PUBLIC \"-//W3C//DTD SVG 1.1//EN\"\n  \"http://www.w3.org/Graphics/SVG/1.1/DTD/svg11.dtd\">\n<!-- Created with matplotlib (https://matplotlib.org/) -->\n<svg height=\"357.238125pt\" version=\"1.1\" viewBox=\"0 0 706.903125 357.238125\" width=\"706.903125pt\" xmlns=\"http://www.w3.org/2000/svg\" xmlns:xlink=\"http://www.w3.org/1999/xlink\">\n <metadata>\n  <rdf:RDF xmlns:cc=\"http://creativecommons.org/ns#\" xmlns:dc=\"http://purl.org/dc/elements/1.1/\" xmlns:rdf=\"http://www.w3.org/1999/02/22-rdf-syntax-ns#\">\n   <cc:Work>\n    <dc:type rdf:resource=\"http://purl.org/dc/dcmitype/StillImage\"/>\n    <dc:date>2020-12-03T22:44:18.252062</dc:date>\n    <dc:format>image/svg+xml</dc:format>\n    <dc:creator>\n     <cc:Agent>\n      <dc:title>Matplotlib v3.3.3, https://matplotlib.org/</dc:title>\n     </cc:Agent>\n    </dc:creator>\n   </cc:Work>\n  </rdf:RDF>\n </metadata>\n <defs>\n  <style type=\"text/css\">*{stroke-linecap:butt;stroke-linejoin:round;}</style>\n </defs>\n <g id=\"figure_1\">\n  <g id=\"patch_1\">\n   <path d=\"M 0 357.238125 \nL 706.903125 357.238125 \nL 706.903125 0 \nL 0 0 \nz\n\" style=\"fill:none;\"/>\n  </g>\n  <g id=\"axes_1\">\n   <g id=\"patch_2\">\n    <path d=\"M 30.103125 333.36 \nL 699.703125 333.36 \nL 699.703125 7.2 \nL 30.103125 7.2 \nz\n\" style=\"fill:#ffffff;\"/>\n   </g>\n   <g id=\"matplotlib.axis_1\">\n    <g id=\"xtick_1\">\n     <g id=\"line2d_1\">\n      <defs>\n       <path d=\"M 0 0 \nL 0 3.5 \n\" id=\"mb9b7079fe4\" style=\"stroke:#000000;stroke-width:0.8;\"/>\n      </defs>\n      <g>\n       <use style=\"stroke:#000000;stroke-width:0.8;\" x=\"60.539489\" xlink:href=\"#mb9b7079fe4\" y=\"333.36\"/>\n      </g>\n     </g>\n     <g id=\"text_1\">\n      <!-- 0 -->\n      <g transform=\"translate(57.358239 347.958438)scale(0.1 -0.1)\">\n       <defs>\n        <path d=\"M 31.78125 66.40625 \nQ 24.171875 66.40625 20.328125 58.90625 \nQ 16.5 51.421875 16.5 36.375 \nQ 16.5 21.390625 20.328125 13.890625 \nQ 24.171875 6.390625 31.78125 6.390625 \nQ 39.453125 6.390625 43.28125 13.890625 \nQ 47.125 21.390625 47.125 36.375 \nQ 47.125 51.421875 43.28125 58.90625 \nQ 39.453125 66.40625 31.78125 66.40625 \nz\nM 31.78125 74.21875 \nQ 44.046875 74.21875 50.515625 64.515625 \nQ 56.984375 54.828125 56.984375 36.375 \nQ 56.984375 17.96875 50.515625 8.265625 \nQ 44.046875 -1.421875 31.78125 -1.421875 \nQ 19.53125 -1.421875 13.0625 8.265625 \nQ 6.59375 17.96875 6.59375 36.375 \nQ 6.59375 54.828125 13.0625 64.515625 \nQ 19.53125 74.21875 31.78125 74.21875 \nz\n\" id=\"DejaVuSans-48\"/>\n       </defs>\n       <use xlink:href=\"#DejaVuSans-48\"/>\n      </g>\n     </g>\n    </g>\n    <g id=\"xtick_2\">\n     <g id=\"line2d_2\">\n      <g>\n       <use style=\"stroke:#000000;stroke-width:0.8;\" x=\"173.266761\" xlink:href=\"#mb9b7079fe4\" y=\"333.36\"/>\n      </g>\n     </g>\n     <g id=\"text_2\">\n      <!-- 50 -->\n      <g transform=\"translate(166.904261 347.958438)scale(0.1 -0.1)\">\n       <defs>\n        <path d=\"M 10.796875 72.90625 \nL 49.515625 72.90625 \nL 49.515625 64.59375 \nL 19.828125 64.59375 \nL 19.828125 46.734375 \nQ 21.96875 47.46875 24.109375 47.828125 \nQ 26.265625 48.1875 28.421875 48.1875 \nQ 40.625 48.1875 47.75 41.5 \nQ 54.890625 34.8125 54.890625 23.390625 \nQ 54.890625 11.625 47.5625 5.09375 \nQ 40.234375 -1.421875 26.90625 -1.421875 \nQ 22.3125 -1.421875 17.546875 -0.640625 \nQ 12.796875 0.140625 7.71875 1.703125 \nL 7.71875 11.625 \nQ 12.109375 9.234375 16.796875 8.0625 \nQ 21.484375 6.890625 26.703125 6.890625 \nQ 35.15625 6.890625 40.078125 11.328125 \nQ 45.015625 15.765625 45.015625 23.390625 \nQ 45.015625 31 40.078125 35.4375 \nQ 35.15625 39.890625 26.703125 39.890625 \nQ 22.75 39.890625 18.8125 39.015625 \nQ 14.890625 38.140625 10.796875 36.28125 \nz\n\" id=\"DejaVuSans-53\"/>\n       </defs>\n       <use xlink:href=\"#DejaVuSans-53\"/>\n       <use x=\"63.623047\" xlink:href=\"#DejaVuSans-48\"/>\n      </g>\n     </g>\n    </g>\n    <g id=\"xtick_3\">\n     <g id=\"line2d_3\">\n      <g>\n       <use style=\"stroke:#000000;stroke-width:0.8;\" x=\"285.994034\" xlink:href=\"#mb9b7079fe4\" y=\"333.36\"/>\n      </g>\n     </g>\n     <g id=\"text_3\">\n      <!-- 100 -->\n      <g transform=\"translate(276.450284 347.958438)scale(0.1 -0.1)\">\n       <defs>\n        <path d=\"M 12.40625 8.296875 \nL 28.515625 8.296875 \nL 28.515625 63.921875 \nL 10.984375 60.40625 \nL 10.984375 69.390625 \nL 28.421875 72.90625 \nL 38.28125 72.90625 \nL 38.28125 8.296875 \nL 54.390625 8.296875 \nL 54.390625 0 \nL 12.40625 0 \nz\n\" id=\"DejaVuSans-49\"/>\n       </defs>\n       <use xlink:href=\"#DejaVuSans-49\"/>\n       <use x=\"63.623047\" xlink:href=\"#DejaVuSans-48\"/>\n       <use x=\"127.246094\" xlink:href=\"#DejaVuSans-48\"/>\n      </g>\n     </g>\n    </g>\n    <g id=\"xtick_4\">\n     <g id=\"line2d_4\">\n      <g>\n       <use style=\"stroke:#000000;stroke-width:0.8;\" x=\"398.721307\" xlink:href=\"#mb9b7079fe4\" y=\"333.36\"/>\n      </g>\n     </g>\n     <g id=\"text_4\">\n      <!-- 150 -->\n      <g transform=\"translate(389.177557 347.958438)scale(0.1 -0.1)\">\n       <use xlink:href=\"#DejaVuSans-49\"/>\n       <use x=\"63.623047\" xlink:href=\"#DejaVuSans-53\"/>\n       <use x=\"127.246094\" xlink:href=\"#DejaVuSans-48\"/>\n      </g>\n     </g>\n    </g>\n    <g id=\"xtick_5\">\n     <g id=\"line2d_5\">\n      <g>\n       <use style=\"stroke:#000000;stroke-width:0.8;\" x=\"511.44858\" xlink:href=\"#mb9b7079fe4\" y=\"333.36\"/>\n      </g>\n     </g>\n     <g id=\"text_5\">\n      <!-- 200 -->\n      <g transform=\"translate(501.90483 347.958438)scale(0.1 -0.1)\">\n       <defs>\n        <path d=\"M 19.1875 8.296875 \nL 53.609375 8.296875 \nL 53.609375 0 \nL 7.328125 0 \nL 7.328125 8.296875 \nQ 12.9375 14.109375 22.625 23.890625 \nQ 32.328125 33.6875 34.8125 36.53125 \nQ 39.546875 41.84375 41.421875 45.53125 \nQ 43.3125 49.21875 43.3125 52.78125 \nQ 43.3125 58.59375 39.234375 62.25 \nQ 35.15625 65.921875 28.609375 65.921875 \nQ 23.96875 65.921875 18.8125 64.3125 \nQ 13.671875 62.703125 7.8125 59.421875 \nL 7.8125 69.390625 \nQ 13.765625 71.78125 18.9375 73 \nQ 24.125 74.21875 28.421875 74.21875 \nQ 39.75 74.21875 46.484375 68.546875 \nQ 53.21875 62.890625 53.21875 53.421875 \nQ 53.21875 48.921875 51.53125 44.890625 \nQ 49.859375 40.875 45.40625 35.40625 \nQ 44.1875 33.984375 37.640625 27.21875 \nQ 31.109375 20.453125 19.1875 8.296875 \nz\n\" id=\"DejaVuSans-50\"/>\n       </defs>\n       <use xlink:href=\"#DejaVuSans-50\"/>\n       <use x=\"63.623047\" xlink:href=\"#DejaVuSans-48\"/>\n       <use x=\"127.246094\" xlink:href=\"#DejaVuSans-48\"/>\n      </g>\n     </g>\n    </g>\n    <g id=\"xtick_6\">\n     <g id=\"line2d_6\">\n      <g>\n       <use style=\"stroke:#000000;stroke-width:0.8;\" x=\"624.175852\" xlink:href=\"#mb9b7079fe4\" y=\"333.36\"/>\n      </g>\n     </g>\n     <g id=\"text_6\">\n      <!-- 250 -->\n      <g transform=\"translate(614.632102 347.958438)scale(0.1 -0.1)\">\n       <use xlink:href=\"#DejaVuSans-50\"/>\n       <use x=\"63.623047\" xlink:href=\"#DejaVuSans-53\"/>\n       <use x=\"127.246094\" xlink:href=\"#DejaVuSans-48\"/>\n      </g>\n     </g>\n    </g>\n   </g>\n   <g id=\"matplotlib.axis_2\">\n    <g id=\"ytick_1\">\n     <g id=\"line2d_7\">\n      <defs>\n       <path d=\"M 0 0 \nL -3.5 0 \n\" id=\"m12a2097e67\" style=\"stroke:#000000;stroke-width:0.8;\"/>\n      </defs>\n      <g>\n       <use style=\"stroke:#000000;stroke-width:0.8;\" x=\"30.103125\" xlink:href=\"#m12a2097e67\" y=\"318.534545\"/>\n      </g>\n     </g>\n     <g id=\"text_7\">\n      <!-- 0.0 -->\n      <g transform=\"translate(7.2 322.333764)scale(0.1 -0.1)\">\n       <defs>\n        <path d=\"M 10.6875 12.40625 \nL 21 12.40625 \nL 21 0 \nL 10.6875 0 \nz\n\" id=\"DejaVuSans-46\"/>\n       </defs>\n       <use xlink:href=\"#DejaVuSans-48\"/>\n       <use x=\"63.623047\" xlink:href=\"#DejaVuSans-46\"/>\n       <use x=\"95.410156\" xlink:href=\"#DejaVuSans-48\"/>\n      </g>\n     </g>\n    </g>\n    <g id=\"ytick_2\">\n     <g id=\"line2d_8\">\n      <g>\n       <use style=\"stroke:#000000;stroke-width:0.8;\" x=\"30.103125\" xlink:href=\"#m12a2097e67\" y=\"259.232727\"/>\n      </g>\n     </g>\n     <g id=\"text_8\">\n      <!-- 0.2 -->\n      <g transform=\"translate(7.2 263.031946)scale(0.1 -0.1)\">\n       <use xlink:href=\"#DejaVuSans-48\"/>\n       <use x=\"63.623047\" xlink:href=\"#DejaVuSans-46\"/>\n       <use x=\"95.410156\" xlink:href=\"#DejaVuSans-50\"/>\n      </g>\n     </g>\n    </g>\n    <g id=\"ytick_3\">\n     <g id=\"line2d_9\">\n      <g>\n       <use style=\"stroke:#000000;stroke-width:0.8;\" x=\"30.103125\" xlink:href=\"#m12a2097e67\" y=\"199.930909\"/>\n      </g>\n     </g>\n     <g id=\"text_9\">\n      <!-- 0.4 -->\n      <g transform=\"translate(7.2 203.730128)scale(0.1 -0.1)\">\n       <defs>\n        <path d=\"M 37.796875 64.3125 \nL 12.890625 25.390625 \nL 37.796875 25.390625 \nz\nM 35.203125 72.90625 \nL 47.609375 72.90625 \nL 47.609375 25.390625 \nL 58.015625 25.390625 \nL 58.015625 17.1875 \nL 47.609375 17.1875 \nL 47.609375 0 \nL 37.796875 0 \nL 37.796875 17.1875 \nL 4.890625 17.1875 \nL 4.890625 26.703125 \nz\n\" id=\"DejaVuSans-52\"/>\n       </defs>\n       <use xlink:href=\"#DejaVuSans-48\"/>\n       <use x=\"63.623047\" xlink:href=\"#DejaVuSans-46\"/>\n       <use x=\"95.410156\" xlink:href=\"#DejaVuSans-52\"/>\n      </g>\n     </g>\n    </g>\n    <g id=\"ytick_4\">\n     <g id=\"line2d_10\">\n      <g>\n       <use style=\"stroke:#000000;stroke-width:0.8;\" x=\"30.103125\" xlink:href=\"#m12a2097e67\" y=\"140.629091\"/>\n      </g>\n     </g>\n     <g id=\"text_10\">\n      <!-- 0.6 -->\n      <g transform=\"translate(7.2 144.42831)scale(0.1 -0.1)\">\n       <defs>\n        <path d=\"M 33.015625 40.375 \nQ 26.375 40.375 22.484375 35.828125 \nQ 18.609375 31.296875 18.609375 23.390625 \nQ 18.609375 15.53125 22.484375 10.953125 \nQ 26.375 6.390625 33.015625 6.390625 \nQ 39.65625 6.390625 43.53125 10.953125 \nQ 47.40625 15.53125 47.40625 23.390625 \nQ 47.40625 31.296875 43.53125 35.828125 \nQ 39.65625 40.375 33.015625 40.375 \nz\nM 52.59375 71.296875 \nL 52.59375 62.3125 \nQ 48.875 64.0625 45.09375 64.984375 \nQ 41.3125 65.921875 37.59375 65.921875 \nQ 27.828125 65.921875 22.671875 59.328125 \nQ 17.53125 52.734375 16.796875 39.40625 \nQ 19.671875 43.65625 24.015625 45.921875 \nQ 28.375 48.1875 33.59375 48.1875 \nQ 44.578125 48.1875 50.953125 41.515625 \nQ 57.328125 34.859375 57.328125 23.390625 \nQ 57.328125 12.15625 50.6875 5.359375 \nQ 44.046875 -1.421875 33.015625 -1.421875 \nQ 20.359375 -1.421875 13.671875 8.265625 \nQ 6.984375 17.96875 6.984375 36.375 \nQ 6.984375 53.65625 15.1875 63.9375 \nQ 23.390625 74.21875 37.203125 74.21875 \nQ 40.921875 74.21875 44.703125 73.484375 \nQ 48.484375 72.75 52.59375 71.296875 \nz\n\" id=\"DejaVuSans-54\"/>\n       </defs>\n       <use xlink:href=\"#DejaVuSans-48\"/>\n       <use x=\"63.623047\" xlink:href=\"#DejaVuSans-46\"/>\n       <use x=\"95.410156\" xlink:href=\"#DejaVuSans-54\"/>\n      </g>\n     </g>\n    </g>\n    <g id=\"ytick_5\">\n     <g id=\"line2d_11\">\n      <g>\n       <use style=\"stroke:#000000;stroke-width:0.8;\" x=\"30.103125\" xlink:href=\"#m12a2097e67\" y=\"81.327273\"/>\n      </g>\n     </g>\n     <g id=\"text_11\">\n      <!-- 0.8 -->\n      <g transform=\"translate(7.2 85.126491)scale(0.1 -0.1)\">\n       <defs>\n        <path d=\"M 31.78125 34.625 \nQ 24.75 34.625 20.71875 30.859375 \nQ 16.703125 27.09375 16.703125 20.515625 \nQ 16.703125 13.921875 20.71875 10.15625 \nQ 24.75 6.390625 31.78125 6.390625 \nQ 38.8125 6.390625 42.859375 10.171875 \nQ 46.921875 13.96875 46.921875 20.515625 \nQ 46.921875 27.09375 42.890625 30.859375 \nQ 38.875 34.625 31.78125 34.625 \nz\nM 21.921875 38.8125 \nQ 15.578125 40.375 12.03125 44.71875 \nQ 8.5 49.078125 8.5 55.328125 \nQ 8.5 64.0625 14.71875 69.140625 \nQ 20.953125 74.21875 31.78125 74.21875 \nQ 42.671875 74.21875 48.875 69.140625 \nQ 55.078125 64.0625 55.078125 55.328125 \nQ 55.078125 49.078125 51.53125 44.71875 \nQ 48 40.375 41.703125 38.8125 \nQ 48.828125 37.15625 52.796875 32.3125 \nQ 56.78125 27.484375 56.78125 20.515625 \nQ 56.78125 9.90625 50.3125 4.234375 \nQ 43.84375 -1.421875 31.78125 -1.421875 \nQ 19.734375 -1.421875 13.25 4.234375 \nQ 6.78125 9.90625 6.78125 20.515625 \nQ 6.78125 27.484375 10.78125 32.3125 \nQ 14.796875 37.15625 21.921875 38.8125 \nz\nM 18.3125 54.390625 \nQ 18.3125 48.734375 21.84375 45.5625 \nQ 25.390625 42.390625 31.78125 42.390625 \nQ 38.140625 42.390625 41.71875 45.5625 \nQ 45.3125 48.734375 45.3125 54.390625 \nQ 45.3125 60.0625 41.71875 63.234375 \nQ 38.140625 66.40625 31.78125 66.40625 \nQ 25.390625 66.40625 21.84375 63.234375 \nQ 18.3125 60.0625 18.3125 54.390625 \nz\n\" id=\"DejaVuSans-56\"/>\n       </defs>\n       <use xlink:href=\"#DejaVuSans-48\"/>\n       <use x=\"63.623047\" xlink:href=\"#DejaVuSans-46\"/>\n       <use x=\"95.410156\" xlink:href=\"#DejaVuSans-56\"/>\n      </g>\n     </g>\n    </g>\n    <g id=\"ytick_6\">\n     <g id=\"line2d_12\">\n      <g>\n       <use style=\"stroke:#000000;stroke-width:0.8;\" x=\"30.103125\" xlink:href=\"#m12a2097e67\" y=\"22.025455\"/>\n      </g>\n     </g>\n     <g id=\"text_12\">\n      <!-- 1.0 -->\n      <g transform=\"translate(7.2 25.824673)scale(0.1 -0.1)\">\n       <use xlink:href=\"#DejaVuSans-49\"/>\n       <use x=\"63.623047\" xlink:href=\"#DejaVuSans-46\"/>\n       <use x=\"95.410156\" xlink:href=\"#DejaVuSans-48\"/>\n      </g>\n     </g>\n    </g>\n   </g>\n   <g id=\"line2d_13\">\n    <path clip-path=\"url(#p7933c3ecf7)\" d=\"M 60.539489 318.534545 \nL 112.394034 318.534545 \nL 114.64858 317.309301 \nL 116.903125 317.309301 \nL 121.412216 314.858813 \nL 123.666761 314.858813 \nL 128.175852 312.408325 \nL 132.684943 312.408325 \nL 134.939489 311.18308 \nL 137.194034 308.732592 \nL 139.44858 308.732592 \nL 141.703125 307.507348 \nL 155.230398 307.507348 \nL 157.484943 306.282104 \nL 159.739489 306.282104 \nL 161.994034 303.831615 \nL 166.503125 303.831615 \nL 171.012216 301.381127 \nL 173.266761 183.882124 \nL 175.521307 184.642582 \nL 177.775852 184.338902 \nL 180.030398 187.972801 \nL 182.284943 189.811629 \nL 184.539489 187.837478 \nL 186.794034 185.619821 \nL 189.04858 186.424063 \nL 191.303125 185.670464 \nL 193.55767 185.205213 \nL 195.812216 185.460437 \nL 198.066761 185.872871 \nL 200.321307 184.697793 \nL 202.575852 185.740581 \nL 204.830398 185.128519 \nL 207.084943 185.290188 \nL 209.339489 185.204117 \nL 211.594034 184.95614 \nL 213.84858 185.417243 \nL 216.103125 187.774841 \nL 218.35767 187.862276 \nL 220.612216 187.262752 \nL 222.866761 187.809086 \nL 225.121307 185.349372 \nL 227.375852 185.016062 \nL 229.630398 184.087281 \nL 231.884943 184.887983 \nL 236.394034 186.112466 \nL 238.64858 184.779103 \nL 240.903125 184.150919 \nL 243.15767 182.274072 \nL 245.412216 182.88485 \nL 247.666761 179.592584 \nL 249.921307 180.633506 \nL 252.175852 180.721312 \nL 254.430398 180.983464 \nL 256.684943 179.259711 \nL 258.939489 181.022077 \nL 261.194034 179.65171 \nL 263.44858 179.861638 \nL 265.703125 180.782098 \nL 267.95767 180.406978 \nL 270.212216 179.78776 \nL 272.466761 179.441244 \nL 274.721307 178.507009 \nL 276.975852 178.436172 \nL 279.230398 177.741471 \nL 281.484943 176.730247 \nL 283.739489 176.59299 \nL 285.994034 175.604011 \nL 288.24858 175.340836 \nL 297.266761 175.207236 \nL 299.521307 174.448253 \nL 304.030398 174.34318 \nL 317.55767 174.416963 \nL 322.066761 173.989698 \nL 324.321307 174.207541 \nL 326.575852 173.87251 \nL 328.830398 174.056397 \nL 331.084943 174.984251 \nL 333.339489 175.104007 \nL 337.84858 174.371658 \nL 340.103125 173.791358 \nL 342.35767 173.711743 \nL 344.612216 174.401085 \nL 346.866761 174.600507 \nL 349.121307 174.259179 \nL 351.375852 174.097042 \nL 353.630398 174.377971 \nL 355.884943 173.815012 \nL 358.139489 173.97638 \nL 360.394034 174.351206 \nL 362.64858 172.465392 \nL 364.903125 172.952606 \nL 367.15767 174.892118 \nL 369.412216 175.769683 \nL 371.666761 175.753492 \nL 376.175852 174.544875 \nL 378.430398 174.691184 \nL 380.684943 174.370995 \nL 382.939489 173.230597 \nL 385.194034 171.285784 \nL 387.44858 173.579994 \nL 389.703125 175.563848 \nL 391.95767 175.75662 \nL 394.212216 175.353086 \nL 396.466761 175.326671 \nL 398.721307 172.403485 \nL 400.975852 172.758932 \nL 403.230398 174.366847 \nL 405.484943 174.543004 \nL 407.739489 172.898389 \nL 409.994034 174.199848 \nL 412.24858 173.463724 \nL 414.503125 174.745097 \nL 416.75767 175.281207 \nL 419.012216 174.283704 \nL 421.266761 173.706838 \nL 423.521307 176.305166 \nL 425.775852 175.197909 \nL 428.030398 172.769911 \nL 430.284943 173.081103 \nL 432.539489 175.311872 \nL 434.794034 176.521353 \nL 437.04858 175.610919 \nL 439.303125 173.321052 \nL 441.55767 170.310341 \nL 443.812216 168.53456 \nL 446.066761 169.293982 \nL 448.321307 168.905991 \nL 450.575852 171.636716 \nL 452.830398 173.179863 \nL 455.084943 174.013767 \nL 457.339489 176.428805 \nL 459.594034 176.117097 \nL 461.84858 172.705805 \nL 464.103125 170.560655 \nL 466.35767 168.89944 \nL 468.612216 166.89793 \nL 470.866761 169.188818 \nL 473.121307 171.209371 \nL 475.375852 171.268608 \nL 477.630398 175.78838 \nL 479.884943 177.699187 \nL 482.139489 176.258065 \nL 484.394034 167.339728 \nL 486.64858 163.518465 \nL 488.903125 164.116193 \nL 491.15767 163.365991 \nL 493.412216 162.920959 \nL 495.666761 166.739763 \nL 500.175852 172.057568 \nL 502.430398 168.679439 \nL 504.684943 171.078678 \nL 506.939489 169.936769 \nL 509.194034 163.275394 \nL 511.44858 163.91641 \nL 513.703125 165.37003 \nL 515.95767 167.449226 \nL 518.212216 174.538867 \nL 520.466761 176.270284 \nL 522.721307 171.706217 \nL 524.975852 162.500773 \nL 527.230398 158.458565 \nL 529.484943 153.548671 \nL 531.739489 151.425595 \nL 533.994034 151.918083 \nL 536.24858 156.471289 \nL 538.503125 160.070631 \nL 540.75767 162.908493 \nL 543.012216 164.089293 \nL 545.266761 167.998278 \nL 547.521307 161.879491 \nL 549.775852 150.985983 \nL 552.030398 156.692553 \nL 554.284943 161.607927 \nL 556.539489 164.895122 \nL 558.794034 165.086896 \nL 561.04858 166.381587 \nL 563.303125 162.446993 \nL 565.55767 153.851078 \nL 567.812216 143.819022 \nL 570.066761 141.0582 \nL 572.321307 138.789568 \nL 574.575852 148.440995 \nL 576.830398 159.182497 \nL 579.084943 168.910418 \nL 581.339489 162.061299 \nL 583.594034 145.376905 \nL 585.84858 137.880868 \nL 588.103125 134.53433 \nL 590.35767 134.016593 \nL 592.612216 139.822397 \nL 594.866761 150.378629 \nL 597.121307 158.973685 \nL 599.375852 154.616634 \nL 601.630398 149.880822 \nL 603.884943 150.606758 \nL 606.139489 144.487111 \nL 608.394034 135.069318 \nL 610.64858 127.497685 \nL 612.903125 131.653282 \nL 615.15767 135.241044 \nL 617.412216 139.610179 \nL 619.666761 150.468592 \nL 621.921307 150.534688 \nL 624.175852 140.297561 \nL 626.430398 134.031664 \nL 628.684943 129.710972 \nL 630.939489 128.560702 \nL 633.194034 136.611624 \nL 635.44858 145.623629 \nL 637.703125 147.237431 \nL 639.95767 150.482109 \nL 642.212216 149.480713 \nL 644.466761 140.058226 \nL 646.721307 132.068781 \nL 648.975852 139.985202 \nL 651.230398 143.815132 \nL 653.484943 143.441545 \nL 655.739489 147.050839 \nL 657.994034 151.18298 \nL 660.24858 142.83543 \nL 662.503125 146.839409 \nL 664.75767 153.496809 \nL 667.012216 153.193487 \nL 669.266761 144.761066 \nL 669.266761 144.761066 \n\" style=\"fill:none;stroke:#1f77b4;stroke-linecap:square;stroke-width:1.5;\"/>\n   </g>\n   <g id=\"line2d_14\">\n    <path clip-path=\"url(#p7933c3ecf7)\" d=\"M 60.539489 318.534545 \nL 112.394034 318.534545 \nL 114.64858 317.309301 \nL 116.903125 317.309301 \nL 121.412216 314.858813 \nL 123.666761 314.858813 \nL 128.175852 312.408325 \nL 132.684943 312.408325 \nL 134.939489 311.18308 \nL 137.194034 308.732592 \nL 139.44858 308.732592 \nL 141.703125 307.507348 \nL 155.230398 307.507348 \nL 157.484943 306.282104 \nL 159.739489 306.282104 \nL 161.994034 303.831615 \nL 166.503125 303.831615 \nL 171.012216 301.381127 \nL 173.266761 301.381127 \nL 175.521307 298.930639 \nL 186.794034 298.930639 \nL 189.04858 297.705394 \nL 310.794034 297.705394 \nL 313.04858 296.48015 \nL 324.321307 296.48015 \nL 326.575852 295.254906 \nL 346.866761 295.254906 \nL 349.121307 292.804418 \nL 355.884943 292.804418 \nL 360.394034 290.353929 \nL 367.15767 290.353929 \nL 371.666761 287.903441 \nL 396.466761 287.903441 \nL 398.721307 286.678197 \nL 400.975852 286.678197 \nL 405.484943 281.77722 \nL 409.994034 281.77722 \nL 412.24858 278.101488 \nL 419.012216 270.750023 \nL 428.030398 270.750023 \nL 432.539489 268.299534 \nL 434.794034 264.623802 \nL 439.303125 262.173313 \nL 441.55767 262.173313 \nL 443.812216 259.722825 \nL 446.066761 259.722825 \nL 448.321307 257.272337 \nL 452.830398 247.470383 \nL 455.084943 243.794651 \nL 457.339489 242.569406 \nL 459.594034 233.992697 \nL 461.84858 229.091721 \nL 464.103125 227.866476 \nL 466.35767 222.9655 \nL 468.612216 220.515011 \nL 470.866761 216.839279 \nL 475.375852 214.38879 \nL 477.630398 211.938302 \nL 482.139489 204.586837 \nL 484.394034 202.136349 \nL 486.64858 200.911104 \nL 488.903125 198.460616 \nL 491.15767 198.460616 \nL 493.412216 197.235372 \nL 495.666761 193.559639 \nL 497.921307 188.658663 \nL 500.175852 172.730488 \nL 509.194034 172.730488 \nL 513.703125 167.829512 \nL 515.95767 164.153779 \nL 518.212216 159.252802 \nL 520.466761 158.027558 \nL 522.721307 158.027558 \nL 527.230398 153.126582 \nL 531.739489 145.775116 \nL 533.994034 132.297431 \nL 536.24858 128.621698 \nL 538.503125 127.396454 \nL 543.012216 120.044989 \nL 545.266761 118.819745 \nL 549.775852 113.918768 \nL 552.030398 112.693524 \nL 554.284943 112.693524 \nL 556.539489 107.792547 \nL 558.794034 95.540105 \nL 567.812216 90.639128 \nL 570.066761 90.639128 \nL 572.321307 88.18864 \nL 574.575852 71.035222 \nL 581.339489 60.008024 \nL 585.84858 60.008024 \nL 588.103125 56.332292 \nL 590.35767 58.78278 \nL 592.612216 56.332292 \nL 594.866761 55.107047 \nL 597.121307 51.431315 \nL 610.64858 51.431315 \nL 615.15767 48.980826 \nL 617.412216 48.980826 \nL 619.666761 47.755582 \nL 635.44858 47.755582 \nL 637.703125 46.530338 \nL 642.212216 46.530338 \nL 644.466761 37.953629 \nL 646.721307 35.50314 \nL 651.230398 35.50314 \nL 655.739489 30.602164 \nL 657.994034 26.926431 \nL 660.24858 26.926431 \nL 662.503125 22.025455 \nL 669.266761 22.025455 \nL 669.266761 22.025455 \n\" style=\"fill:none;stroke:#ff7f0e;stroke-linecap:square;stroke-width:1.5;\"/>\n   </g>\n   <g id=\"patch_3\">\n    <path d=\"M 30.103125 333.36 \nL 30.103125 7.2 \n\" style=\"fill:none;stroke:#000000;stroke-linecap:square;stroke-linejoin:miter;stroke-width:0.8;\"/>\n   </g>\n   <g id=\"patch_4\">\n    <path d=\"M 699.703125 333.36 \nL 699.703125 7.2 \n\" style=\"fill:none;stroke:#000000;stroke-linecap:square;stroke-linejoin:miter;stroke-width:0.8;\"/>\n   </g>\n   <g id=\"patch_5\">\n    <path d=\"M 30.103125 333.36 \nL 699.703125 333.36 \n\" style=\"fill:none;stroke:#000000;stroke-linecap:square;stroke-linejoin:miter;stroke-width:0.8;\"/>\n   </g>\n   <g id=\"patch_6\">\n    <path d=\"M 30.103125 7.2 \nL 699.703125 7.2 \n\" style=\"fill:none;stroke:#000000;stroke-linecap:square;stroke-linejoin:miter;stroke-width:0.8;\"/>\n   </g>\n   <g id=\"legend_1\">\n    <g id=\"patch_7\">\n     <path d=\"M 37.103125 44.55625 \nL 238.1 44.55625 \nQ 240.1 44.55625 240.1 42.55625 \nL 240.1 14.2 \nQ 240.1 12.2 238.1 12.2 \nL 37.103125 12.2 \nQ 35.103125 12.2 35.103125 14.2 \nL 35.103125 42.55625 \nQ 35.103125 44.55625 37.103125 44.55625 \nz\n\" style=\"fill:#ffffff;opacity:0.8;stroke:#cccccc;stroke-linejoin:miter;\"/>\n    </g>\n    <g id=\"line2d_15\">\n     <path d=\"M 39.103125 20.298437 \nL 59.103125 20.298437 \n\" style=\"fill:none;stroke:#1f77b4;stroke-linecap:square;stroke-width:1.5;\"/>\n    </g>\n    <g id=\"line2d_16\"/>\n    <g id=\"text_13\">\n     <!-- predicting from day 50 till current -->\n     <g transform=\"translate(67.103125 23.798437)scale(0.1 -0.1)\">\n      <defs>\n       <path d=\"M 18.109375 8.203125 \nL 18.109375 -20.796875 \nL 9.078125 -20.796875 \nL 9.078125 54.6875 \nL 18.109375 54.6875 \nL 18.109375 46.390625 \nQ 20.953125 51.265625 25.265625 53.625 \nQ 29.59375 56 35.59375 56 \nQ 45.5625 56 51.78125 48.09375 \nQ 58.015625 40.1875 58.015625 27.296875 \nQ 58.015625 14.40625 51.78125 6.484375 \nQ 45.5625 -1.421875 35.59375 -1.421875 \nQ 29.59375 -1.421875 25.265625 0.953125 \nQ 20.953125 3.328125 18.109375 8.203125 \nz\nM 48.6875 27.296875 \nQ 48.6875 37.203125 44.609375 42.84375 \nQ 40.53125 48.484375 33.40625 48.484375 \nQ 26.265625 48.484375 22.1875 42.84375 \nQ 18.109375 37.203125 18.109375 27.296875 \nQ 18.109375 17.390625 22.1875 11.75 \nQ 26.265625 6.109375 33.40625 6.109375 \nQ 40.53125 6.109375 44.609375 11.75 \nQ 48.6875 17.390625 48.6875 27.296875 \nz\n\" id=\"DejaVuSans-112\"/>\n       <path d=\"M 41.109375 46.296875 \nQ 39.59375 47.171875 37.8125 47.578125 \nQ 36.03125 48 33.890625 48 \nQ 26.265625 48 22.1875 43.046875 \nQ 18.109375 38.09375 18.109375 28.8125 \nL 18.109375 0 \nL 9.078125 0 \nL 9.078125 54.6875 \nL 18.109375 54.6875 \nL 18.109375 46.1875 \nQ 20.953125 51.171875 25.484375 53.578125 \nQ 30.03125 56 36.53125 56 \nQ 37.453125 56 38.578125 55.875 \nQ 39.703125 55.765625 41.0625 55.515625 \nz\n\" id=\"DejaVuSans-114\"/>\n       <path d=\"M 56.203125 29.59375 \nL 56.203125 25.203125 \nL 14.890625 25.203125 \nQ 15.484375 15.921875 20.484375 11.0625 \nQ 25.484375 6.203125 34.421875 6.203125 \nQ 39.59375 6.203125 44.453125 7.46875 \nQ 49.3125 8.734375 54.109375 11.28125 \nL 54.109375 2.78125 \nQ 49.265625 0.734375 44.1875 -0.34375 \nQ 39.109375 -1.421875 33.890625 -1.421875 \nQ 20.796875 -1.421875 13.15625 6.1875 \nQ 5.515625 13.8125 5.515625 26.8125 \nQ 5.515625 40.234375 12.765625 48.109375 \nQ 20.015625 56 32.328125 56 \nQ 43.359375 56 49.78125 48.890625 \nQ 56.203125 41.796875 56.203125 29.59375 \nz\nM 47.21875 32.234375 \nQ 47.125 39.59375 43.09375 43.984375 \nQ 39.0625 48.390625 32.421875 48.390625 \nQ 24.90625 48.390625 20.390625 44.140625 \nQ 15.875 39.890625 15.1875 32.171875 \nz\n\" id=\"DejaVuSans-101\"/>\n       <path d=\"M 45.40625 46.390625 \nL 45.40625 75.984375 \nL 54.390625 75.984375 \nL 54.390625 0 \nL 45.40625 0 \nL 45.40625 8.203125 \nQ 42.578125 3.328125 38.25 0.953125 \nQ 33.9375 -1.421875 27.875 -1.421875 \nQ 17.96875 -1.421875 11.734375 6.484375 \nQ 5.515625 14.40625 5.515625 27.296875 \nQ 5.515625 40.1875 11.734375 48.09375 \nQ 17.96875 56 27.875 56 \nQ 33.9375 56 38.25 53.625 \nQ 42.578125 51.265625 45.40625 46.390625 \nz\nM 14.796875 27.296875 \nQ 14.796875 17.390625 18.875 11.75 \nQ 22.953125 6.109375 30.078125 6.109375 \nQ 37.203125 6.109375 41.296875 11.75 \nQ 45.40625 17.390625 45.40625 27.296875 \nQ 45.40625 37.203125 41.296875 42.84375 \nQ 37.203125 48.484375 30.078125 48.484375 \nQ 22.953125 48.484375 18.875 42.84375 \nQ 14.796875 37.203125 14.796875 27.296875 \nz\n\" id=\"DejaVuSans-100\"/>\n       <path d=\"M 9.421875 54.6875 \nL 18.40625 54.6875 \nL 18.40625 0 \nL 9.421875 0 \nz\nM 9.421875 75.984375 \nL 18.40625 75.984375 \nL 18.40625 64.59375 \nL 9.421875 64.59375 \nz\n\" id=\"DejaVuSans-105\"/>\n       <path d=\"M 48.78125 52.59375 \nL 48.78125 44.1875 \nQ 44.96875 46.296875 41.140625 47.34375 \nQ 37.3125 48.390625 33.40625 48.390625 \nQ 24.65625 48.390625 19.8125 42.84375 \nQ 14.984375 37.3125 14.984375 27.296875 \nQ 14.984375 17.28125 19.8125 11.734375 \nQ 24.65625 6.203125 33.40625 6.203125 \nQ 37.3125 6.203125 41.140625 7.25 \nQ 44.96875 8.296875 48.78125 10.40625 \nL 48.78125 2.09375 \nQ 45.015625 0.34375 40.984375 -0.53125 \nQ 36.96875 -1.421875 32.421875 -1.421875 \nQ 20.0625 -1.421875 12.78125 6.34375 \nQ 5.515625 14.109375 5.515625 27.296875 \nQ 5.515625 40.671875 12.859375 48.328125 \nQ 20.21875 56 33.015625 56 \nQ 37.15625 56 41.109375 55.140625 \nQ 45.0625 54.296875 48.78125 52.59375 \nz\n\" id=\"DejaVuSans-99\"/>\n       <path d=\"M 18.3125 70.21875 \nL 18.3125 54.6875 \nL 36.8125 54.6875 \nL 36.8125 47.703125 \nL 18.3125 47.703125 \nL 18.3125 18.015625 \nQ 18.3125 11.328125 20.140625 9.421875 \nQ 21.96875 7.515625 27.59375 7.515625 \nL 36.8125 7.515625 \nL 36.8125 0 \nL 27.59375 0 \nQ 17.1875 0 13.234375 3.875 \nQ 9.28125 7.765625 9.28125 18.015625 \nL 9.28125 47.703125 \nL 2.6875 47.703125 \nL 2.6875 54.6875 \nL 9.28125 54.6875 \nL 9.28125 70.21875 \nz\n\" id=\"DejaVuSans-116\"/>\n       <path d=\"M 54.890625 33.015625 \nL 54.890625 0 \nL 45.90625 0 \nL 45.90625 32.71875 \nQ 45.90625 40.484375 42.875 44.328125 \nQ 39.84375 48.1875 33.796875 48.1875 \nQ 26.515625 48.1875 22.3125 43.546875 \nQ 18.109375 38.921875 18.109375 30.90625 \nL 18.109375 0 \nL 9.078125 0 \nL 9.078125 54.6875 \nL 18.109375 54.6875 \nL 18.109375 46.1875 \nQ 21.34375 51.125 25.703125 53.5625 \nQ 30.078125 56 35.796875 56 \nQ 45.21875 56 50.046875 50.171875 \nQ 54.890625 44.34375 54.890625 33.015625 \nz\n\" id=\"DejaVuSans-110\"/>\n       <path d=\"M 45.40625 27.984375 \nQ 45.40625 37.75 41.375 43.109375 \nQ 37.359375 48.484375 30.078125 48.484375 \nQ 22.859375 48.484375 18.828125 43.109375 \nQ 14.796875 37.75 14.796875 27.984375 \nQ 14.796875 18.265625 18.828125 12.890625 \nQ 22.859375 7.515625 30.078125 7.515625 \nQ 37.359375 7.515625 41.375 12.890625 \nQ 45.40625 18.265625 45.40625 27.984375 \nz\nM 54.390625 6.78125 \nQ 54.390625 -7.171875 48.1875 -13.984375 \nQ 42 -20.796875 29.203125 -20.796875 \nQ 24.46875 -20.796875 20.265625 -20.09375 \nQ 16.0625 -19.390625 12.109375 -17.921875 \nL 12.109375 -9.1875 \nQ 16.0625 -11.328125 19.921875 -12.34375 \nQ 23.78125 -13.375 27.78125 -13.375 \nQ 36.625 -13.375 41.015625 -8.765625 \nQ 45.40625 -4.15625 45.40625 5.171875 \nL 45.40625 9.625 \nQ 42.625 4.78125 38.28125 2.390625 \nQ 33.9375 0 27.875 0 \nQ 17.828125 0 11.671875 7.65625 \nQ 5.515625 15.328125 5.515625 27.984375 \nQ 5.515625 40.671875 11.671875 48.328125 \nQ 17.828125 56 27.875 56 \nQ 33.9375 56 38.28125 53.609375 \nQ 42.625 51.21875 45.40625 46.390625 \nL 45.40625 54.6875 \nL 54.390625 54.6875 \nz\n\" id=\"DejaVuSans-103\"/>\n       <path id=\"DejaVuSans-32\"/>\n       <path d=\"M 37.109375 75.984375 \nL 37.109375 68.5 \nL 28.515625 68.5 \nQ 23.6875 68.5 21.796875 66.546875 \nQ 19.921875 64.59375 19.921875 59.515625 \nL 19.921875 54.6875 \nL 34.71875 54.6875 \nL 34.71875 47.703125 \nL 19.921875 47.703125 \nL 19.921875 0 \nL 10.890625 0 \nL 10.890625 47.703125 \nL 2.296875 47.703125 \nL 2.296875 54.6875 \nL 10.890625 54.6875 \nL 10.890625 58.5 \nQ 10.890625 67.625 15.140625 71.796875 \nQ 19.390625 75.984375 28.609375 75.984375 \nz\n\" id=\"DejaVuSans-102\"/>\n       <path d=\"M 30.609375 48.390625 \nQ 23.390625 48.390625 19.1875 42.75 \nQ 14.984375 37.109375 14.984375 27.296875 \nQ 14.984375 17.484375 19.15625 11.84375 \nQ 23.34375 6.203125 30.609375 6.203125 \nQ 37.796875 6.203125 41.984375 11.859375 \nQ 46.1875 17.53125 46.1875 27.296875 \nQ 46.1875 37.015625 41.984375 42.703125 \nQ 37.796875 48.390625 30.609375 48.390625 \nz\nM 30.609375 56 \nQ 42.328125 56 49.015625 48.375 \nQ 55.71875 40.765625 55.71875 27.296875 \nQ 55.71875 13.875 49.015625 6.21875 \nQ 42.328125 -1.421875 30.609375 -1.421875 \nQ 18.84375 -1.421875 12.171875 6.21875 \nQ 5.515625 13.875 5.515625 27.296875 \nQ 5.515625 40.765625 12.171875 48.375 \nQ 18.84375 56 30.609375 56 \nz\n\" id=\"DejaVuSans-111\"/>\n       <path d=\"M 52 44.1875 \nQ 55.375 50.25 60.0625 53.125 \nQ 64.75 56 71.09375 56 \nQ 79.640625 56 84.28125 50.015625 \nQ 88.921875 44.046875 88.921875 33.015625 \nL 88.921875 0 \nL 79.890625 0 \nL 79.890625 32.71875 \nQ 79.890625 40.578125 77.09375 44.375 \nQ 74.3125 48.1875 68.609375 48.1875 \nQ 61.625 48.1875 57.5625 43.546875 \nQ 53.515625 38.921875 53.515625 30.90625 \nL 53.515625 0 \nL 44.484375 0 \nL 44.484375 32.71875 \nQ 44.484375 40.625 41.703125 44.40625 \nQ 38.921875 48.1875 33.109375 48.1875 \nQ 26.21875 48.1875 22.15625 43.53125 \nQ 18.109375 38.875 18.109375 30.90625 \nL 18.109375 0 \nL 9.078125 0 \nL 9.078125 54.6875 \nL 18.109375 54.6875 \nL 18.109375 46.1875 \nQ 21.1875 51.21875 25.484375 53.609375 \nQ 29.78125 56 35.6875 56 \nQ 41.65625 56 45.828125 52.96875 \nQ 50 49.953125 52 44.1875 \nz\n\" id=\"DejaVuSans-109\"/>\n       <path d=\"M 34.28125 27.484375 \nQ 23.390625 27.484375 19.1875 25 \nQ 14.984375 22.515625 14.984375 16.5 \nQ 14.984375 11.71875 18.140625 8.90625 \nQ 21.296875 6.109375 26.703125 6.109375 \nQ 34.1875 6.109375 38.703125 11.40625 \nQ 43.21875 16.703125 43.21875 25.484375 \nL 43.21875 27.484375 \nz\nM 52.203125 31.203125 \nL 52.203125 0 \nL 43.21875 0 \nL 43.21875 8.296875 \nQ 40.140625 3.328125 35.546875 0.953125 \nQ 30.953125 -1.421875 24.3125 -1.421875 \nQ 15.921875 -1.421875 10.953125 3.296875 \nQ 6 8.015625 6 15.921875 \nQ 6 25.140625 12.171875 29.828125 \nQ 18.359375 34.515625 30.609375 34.515625 \nL 43.21875 34.515625 \nL 43.21875 35.40625 \nQ 43.21875 41.609375 39.140625 45 \nQ 35.0625 48.390625 27.6875 48.390625 \nQ 23 48.390625 18.546875 47.265625 \nQ 14.109375 46.140625 10.015625 43.890625 \nL 10.015625 52.203125 \nQ 14.9375 54.109375 19.578125 55.046875 \nQ 24.21875 56 28.609375 56 \nQ 40.484375 56 46.34375 49.84375 \nQ 52.203125 43.703125 52.203125 31.203125 \nz\n\" id=\"DejaVuSans-97\"/>\n       <path d=\"M 32.171875 -5.078125 \nQ 28.375 -14.84375 24.75 -17.8125 \nQ 21.140625 -20.796875 15.09375 -20.796875 \nL 7.90625 -20.796875 \nL 7.90625 -13.28125 \nL 13.1875 -13.28125 \nQ 16.890625 -13.28125 18.9375 -11.515625 \nQ 21 -9.765625 23.484375 -3.21875 \nL 25.09375 0.875 \nL 2.984375 54.6875 \nL 12.5 54.6875 \nL 29.59375 11.921875 \nL 46.6875 54.6875 \nL 56.203125 54.6875 \nz\n\" id=\"DejaVuSans-121\"/>\n       <path d=\"M 9.421875 75.984375 \nL 18.40625 75.984375 \nL 18.40625 0 \nL 9.421875 0 \nz\n\" id=\"DejaVuSans-108\"/>\n       <path d=\"M 8.5 21.578125 \nL 8.5 54.6875 \nL 17.484375 54.6875 \nL 17.484375 21.921875 \nQ 17.484375 14.15625 20.5 10.265625 \nQ 23.53125 6.390625 29.59375 6.390625 \nQ 36.859375 6.390625 41.078125 11.03125 \nQ 45.3125 15.671875 45.3125 23.6875 \nL 45.3125 54.6875 \nL 54.296875 54.6875 \nL 54.296875 0 \nL 45.3125 0 \nL 45.3125 8.40625 \nQ 42.046875 3.421875 37.71875 1 \nQ 33.40625 -1.421875 27.6875 -1.421875 \nQ 18.265625 -1.421875 13.375 4.4375 \nQ 8.5 10.296875 8.5 21.578125 \nz\nM 31.109375 56 \nz\n\" id=\"DejaVuSans-117\"/>\n      </defs>\n      <use xlink:href=\"#DejaVuSans-112\"/>\n      <use x=\"63.476562\" xlink:href=\"#DejaVuSans-114\"/>\n      <use x=\"102.339844\" xlink:href=\"#DejaVuSans-101\"/>\n      <use x=\"163.863281\" xlink:href=\"#DejaVuSans-100\"/>\n      <use x=\"227.339844\" xlink:href=\"#DejaVuSans-105\"/>\n      <use x=\"255.123047\" xlink:href=\"#DejaVuSans-99\"/>\n      <use x=\"310.103516\" xlink:href=\"#DejaVuSans-116\"/>\n      <use x=\"349.3125\" xlink:href=\"#DejaVuSans-105\"/>\n      <use x=\"377.095703\" xlink:href=\"#DejaVuSans-110\"/>\n      <use x=\"440.474609\" xlink:href=\"#DejaVuSans-103\"/>\n      <use x=\"503.951172\" xlink:href=\"#DejaVuSans-32\"/>\n      <use x=\"535.738281\" xlink:href=\"#DejaVuSans-102\"/>\n      <use x=\"570.943359\" xlink:href=\"#DejaVuSans-114\"/>\n      <use x=\"609.806641\" xlink:href=\"#DejaVuSans-111\"/>\n      <use x=\"670.988281\" xlink:href=\"#DejaVuSans-109\"/>\n      <use x=\"768.400391\" xlink:href=\"#DejaVuSans-32\"/>\n      <use x=\"800.1875\" xlink:href=\"#DejaVuSans-100\"/>\n      <use x=\"863.664062\" xlink:href=\"#DejaVuSans-97\"/>\n      <use x=\"924.943359\" xlink:href=\"#DejaVuSans-121\"/>\n      <use x=\"984.123047\" xlink:href=\"#DejaVuSans-32\"/>\n      <use x=\"1015.910156\" xlink:href=\"#DejaVuSans-53\"/>\n      <use x=\"1079.533203\" xlink:href=\"#DejaVuSans-48\"/>\n      <use x=\"1143.15625\" xlink:href=\"#DejaVuSans-32\"/>\n      <use x=\"1174.943359\" xlink:href=\"#DejaVuSans-116\"/>\n      <use x=\"1214.152344\" xlink:href=\"#DejaVuSans-105\"/>\n      <use x=\"1241.935547\" xlink:href=\"#DejaVuSans-108\"/>\n      <use x=\"1269.71875\" xlink:href=\"#DejaVuSans-108\"/>\n      <use x=\"1297.501953\" xlink:href=\"#DejaVuSans-32\"/>\n      <use x=\"1329.289062\" xlink:href=\"#DejaVuSans-99\"/>\n      <use x=\"1384.269531\" xlink:href=\"#DejaVuSans-117\"/>\n      <use x=\"1447.648438\" xlink:href=\"#DejaVuSans-114\"/>\n      <use x=\"1487.011719\" xlink:href=\"#DejaVuSans-114\"/>\n      <use x=\"1525.875\" xlink:href=\"#DejaVuSans-101\"/>\n      <use x=\"1587.398438\" xlink:href=\"#DejaVuSans-110\"/>\n      <use x=\"1650.777344\" xlink:href=\"#DejaVuSans-116\"/>\n     </g>\n    </g>\n    <g id=\"line2d_17\">\n     <path d=\"M 39.103125 34.976562 \nL 59.103125 34.976562 \n\" style=\"fill:none;stroke:#ff7f0e;stroke-linecap:square;stroke-width:1.5;\"/>\n    </g>\n    <g id=\"line2d_18\"/>\n    <g id=\"text_14\">\n     <!-- scaled data (deaths) -->\n     <g transform=\"translate(67.103125 38.476562)scale(0.1 -0.1)\">\n      <defs>\n       <path d=\"M 44.28125 53.078125 \nL 44.28125 44.578125 \nQ 40.484375 46.53125 36.375 47.5 \nQ 32.28125 48.484375 27.875 48.484375 \nQ 21.1875 48.484375 17.84375 46.4375 \nQ 14.5 44.390625 14.5 40.28125 \nQ 14.5 37.15625 16.890625 35.375 \nQ 19.28125 33.59375 26.515625 31.984375 \nL 29.59375 31.296875 \nQ 39.15625 29.25 43.1875 25.515625 \nQ 47.21875 21.78125 47.21875 15.09375 \nQ 47.21875 7.46875 41.1875 3.015625 \nQ 35.15625 -1.421875 24.609375 -1.421875 \nQ 20.21875 -1.421875 15.453125 -0.5625 \nQ 10.6875 0.296875 5.421875 2 \nL 5.421875 11.28125 \nQ 10.40625 8.6875 15.234375 7.390625 \nQ 20.0625 6.109375 24.8125 6.109375 \nQ 31.15625 6.109375 34.5625 8.28125 \nQ 37.984375 10.453125 37.984375 14.40625 \nQ 37.984375 18.0625 35.515625 20.015625 \nQ 33.0625 21.96875 24.703125 23.78125 \nL 21.578125 24.515625 \nQ 13.234375 26.265625 9.515625 29.90625 \nQ 5.8125 33.546875 5.8125 39.890625 \nQ 5.8125 47.609375 11.28125 51.796875 \nQ 16.75 56 26.8125 56 \nQ 31.78125 56 36.171875 55.265625 \nQ 40.578125 54.546875 44.28125 53.078125 \nz\n\" id=\"DejaVuSans-115\"/>\n       <path d=\"M 31 75.875 \nQ 24.46875 64.65625 21.28125 53.65625 \nQ 18.109375 42.671875 18.109375 31.390625 \nQ 18.109375 20.125 21.3125 9.0625 \nQ 24.515625 -2 31 -13.1875 \nL 23.1875 -13.1875 \nQ 15.875 -1.703125 12.234375 9.375 \nQ 8.59375 20.453125 8.59375 31.390625 \nQ 8.59375 42.28125 12.203125 53.3125 \nQ 15.828125 64.359375 23.1875 75.875 \nz\n\" id=\"DejaVuSans-40\"/>\n       <path d=\"M 54.890625 33.015625 \nL 54.890625 0 \nL 45.90625 0 \nL 45.90625 32.71875 \nQ 45.90625 40.484375 42.875 44.328125 \nQ 39.84375 48.1875 33.796875 48.1875 \nQ 26.515625 48.1875 22.3125 43.546875 \nQ 18.109375 38.921875 18.109375 30.90625 \nL 18.109375 0 \nL 9.078125 0 \nL 9.078125 75.984375 \nL 18.109375 75.984375 \nL 18.109375 46.1875 \nQ 21.34375 51.125 25.703125 53.5625 \nQ 30.078125 56 35.796875 56 \nQ 45.21875 56 50.046875 50.171875 \nQ 54.890625 44.34375 54.890625 33.015625 \nz\n\" id=\"DejaVuSans-104\"/>\n       <path d=\"M 8.015625 75.875 \nL 15.828125 75.875 \nQ 23.140625 64.359375 26.78125 53.3125 \nQ 30.421875 42.28125 30.421875 31.390625 \nQ 30.421875 20.453125 26.78125 9.375 \nQ 23.140625 -1.703125 15.828125 -13.1875 \nL 8.015625 -13.1875 \nQ 14.5 -2 17.703125 9.0625 \nQ 20.90625 20.125 20.90625 31.390625 \nQ 20.90625 42.671875 17.703125 53.65625 \nQ 14.5 64.65625 8.015625 75.875 \nz\n\" id=\"DejaVuSans-41\"/>\n      </defs>\n      <use xlink:href=\"#DejaVuSans-115\"/>\n      <use x=\"52.099609\" xlink:href=\"#DejaVuSans-99\"/>\n      <use x=\"107.080078\" xlink:href=\"#DejaVuSans-97\"/>\n      <use x=\"168.359375\" xlink:href=\"#DejaVuSans-108\"/>\n      <use x=\"196.142578\" xlink:href=\"#DejaVuSans-101\"/>\n      <use x=\"257.666016\" xlink:href=\"#DejaVuSans-100\"/>\n      <use x=\"321.142578\" xlink:href=\"#DejaVuSans-32\"/>\n      <use x=\"352.929688\" xlink:href=\"#DejaVuSans-100\"/>\n      <use x=\"416.40625\" xlink:href=\"#DejaVuSans-97\"/>\n      <use x=\"477.685547\" xlink:href=\"#DejaVuSans-116\"/>\n      <use x=\"516.894531\" xlink:href=\"#DejaVuSans-97\"/>\n      <use x=\"578.173828\" xlink:href=\"#DejaVuSans-32\"/>\n      <use x=\"609.960938\" xlink:href=\"#DejaVuSans-40\"/>\n      <use x=\"648.974609\" xlink:href=\"#DejaVuSans-100\"/>\n      <use x=\"712.451172\" xlink:href=\"#DejaVuSans-101\"/>\n      <use x=\"773.974609\" xlink:href=\"#DejaVuSans-97\"/>\n      <use x=\"835.253906\" xlink:href=\"#DejaVuSans-116\"/>\n      <use x=\"874.462891\" xlink:href=\"#DejaVuSans-104\"/>\n      <use x=\"937.841797\" xlink:href=\"#DejaVuSans-115\"/>\n      <use x=\"989.941406\" xlink:href=\"#DejaVuSans-41\"/>\n     </g>\n    </g>\n   </g>\n  </g>\n </g>\n <defs>\n  <clipPath id=\"p7933c3ecf7\">\n   <rect height=\"326.16\" width=\"669.6\" x=\"30.103125\" y=\"7.2\"/>\n  </clipPath>\n </defs>\n</svg>\n",
      "image/png": "[encoded data removed]"
     },
     "metadata": {
      "needs_background": "light"
     }
    }
   ],
   "source": [
    "init_section = scaled_data[:input_seq,:, None]\n",
    "predict = np.concatenate((init_section, train_preds, valid_preds), axis=0)\n",
    "\n",
    "plt.plot(predict[:, 0, 0], label=f\"predicting from day {input_seq} till current\")\n",
    "plt.plot(scaled_data[:len(scaled_data)], label=f\"scaled data ({predict_class})\")\n",
    "plt.legend()"
   ]
  },
  {
   "cell_type": "code",
   "execution_count": 23,
   "metadata": {},
   "outputs": [],
   "source": [
    "# print(f\"Scaled data shape: {scaled_data.shape}\")\n",
    "# print(f\"Initial section shape: {init_section.shape}\")\n",
    "# print(f\"Train predictions shape: {train_preds.shape}, Valid predictions shape: {valid_preds.shape}\")\n",
    "# print(f\"Predicted data shape: {predict.shape}\")\n",
    "\n",
    "# print(f\"x train shape: {x_train.shape}, x valid shape: {x_valid.shape}\")\n",
    "# print(f\"x data shape: {x_data.shape}\")\n",
    "\n",
    "# print(f\"y train shape: {y_train.shape}, y valid shape: {y_valid.shape}\")\n",
    "# print(f\"y data shape: {y_data.shape}\")"
   ]
  }
 ]
}